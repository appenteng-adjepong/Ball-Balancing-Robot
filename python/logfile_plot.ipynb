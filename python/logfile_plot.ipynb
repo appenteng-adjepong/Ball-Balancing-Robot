{
 "cells": [
  {
   "cell_type": "markdown",
   "metadata": {},
   "source": [
    "### Logfile plot\n",
    "This script allows you to generate the necessary plots for Lab06. </br>\n",
    "You can simply run all cells below until the next markdown cell and follow the instructions written there."
   ]
  },
  {
   "cell_type": "code",
   "execution_count": 30,
   "metadata": {},
   "outputs": [],
   "source": [
    "import numpy as np\n",
    "from matplotlib import pyplot as plt\n",
    "import ipywidgets as widgets\n",
    "import re"
   ]
  },
  {
   "cell_type": "code",
   "execution_count": 31,
   "metadata": {},
   "outputs": [],
   "source": [
    "def load_data(file_path: str):\n",
    "    # unpack data into variables directly\n",
    "    t, x_ref, y_ref, vx_ref, vy_ref, x_raw, y_raw, x, y, vx_raw, vy_raw, vx, vy = np.loadtxt(file_path, skiprows = 5, unpack=True, delimiter = \" \")\n",
    "    t = (t - t[0])/1e6 # convert microseconds to seconds\n",
    "\n",
    "    with open(file_path, 'r') as f:\n",
    "        headers = f.readlines()[:2]\n",
    "\n",
    "    task = int(re.findall(\"\\d\", headers[0])[0]) # task selection\n",
    "    weights = re.findall(\"\\d+.\\d+\", headers[1]) #kp, kd, ki\n",
    "    return t, x_ref, y_ref, vx_ref, vy_ref, x_raw, y_raw, x, y, vx_raw, vy_raw, vx, vy, task, weights"
   ]
  },
  {
   "cell_type": "code",
   "execution_count": 32,
   "metadata": {},
   "outputs": [],
   "source": [
    "def step_response(file_path: str):\n",
    "\n",
    "    t, x_ref, y_ref, vx_ref, vy_ref, x_raw, y_raw, x, y, vx_raw, vy_raw, vx, vy, task, weights = load_data(file_path)\n",
    "\n",
    "    fig, ax = plt.subplots(1, 1, figsize=(10,8))\n",
    "\n",
    "    fig.suptitle(file_path[:-4], fontsize=15)\n",
    "    ax.set_title(\"Step Response\")\n",
    "\n",
    "    ax.plot(t,x_ref,'--k', label = 'Reference')\n",
    "    ax.plot(t,x_raw, color='royalblue', alpha=0.4, linewidth=2, label='Unfiltered')\n",
    "    ax.plot(t,x,     color='royalblue', alpha=1, linewidth=2, label='Filtered')\n",
    "    ax.set_xlim([0,10])\n",
    "    ax.grid(color='k', linestyle=':', linewidth=1, alpha =0.8)\n",
    "\n",
    "    if task == 6:\n",
    "        ax.text(9, 80, f\"$K_p$: {weights[0]}\\n$K_d$: {weights[1]}\\n$K_i$: {weights[2]}\", fontsize=12, bbox=dict(facecolor='white', alpha=1))\n",
    "        ax.legend(loc='lower left')\n",
    "\n",
    "    if task == 5:\n",
    "        ax.plot(t, 85*np.ones(len(t)), ':k', linewidth=2, label='Error Limit')\n",
    "        ax.plot(t, 75*np.ones(len(t)), ':k', linewidth=2)\n",
    "        ax.text(9, 15, f\"$K_p$: {weights[0]}\\n$K_d$: {weights[1]}\\n$K_i$: {weights[2]}\", fontsize=12, bbox=dict(facecolor='white', alpha=1))\n",
    "        ax.legend()\n",
    "\n",
    "    "
   ]
  },
  {
   "cell_type": "code",
   "execution_count": 33,
   "metadata": {},
   "outputs": [],
   "source": [
    "def overview(file_path: str):\n",
    "    t, x_ref, y_ref, vx_ref, vy_ref, x_raw, y_raw, x, y, vx_raw, vy_raw, vx, vy, task, weights = load_data(file_path)\n",
    "\n",
    "    fig, axs = plt.subplots(2,2, figsize = (10, 8))\n",
    "    fig.suptitle('Overview')\n",
    "\n",
    "    for ax in axs:\n",
    "        for a in ax:\n",
    "            a.set_xlim([0, 10])\n",
    "            a.grid(color='k', linestyle=':', linewidth=1, alpha =0.8)\n",
    "\n",
    "    pos_range = np.linspace(0, 120, 7)\n",
    "    vel_range = np.linspace(-500, 500, 11)\n",
    "\n",
    "    axs[0][0].plot(t,x_ref,'--k', label = 'Reference')\n",
    "    axs[0][0].plot(t,x_raw, color='royalblue', alpha=0.4, linewidth=4, label='Unfiltered')\n",
    "    axs[0][0].plot(t,x,     color='royalblue', alpha=1, linewidth=2, label='Filtered')\n",
    "    axs[0][0].set_title('x-position')\n",
    "    axs[0][0].set_yticks(pos_range)\n",
    "    axs[0][0].set_yticklabels(pos_range)\n",
    "    # axs[0][0].set_xlabel('Time [s]')\n",
    "    axs[0][0].set_ylabel('Position [mm]')\n",
    "\n",
    "    axs[0][1].plot(t,y_ref,'--k', label = 'Reference')\n",
    "    axs[0][1].plot(t,y_raw, color='royalblue', alpha=0.4, linewidth=4, label='Unfiltered')\n",
    "    axs[0][1].plot(t,y,     color='royalblue', alpha=1, linewidth=2, label='Filtered')\n",
    "    axs[0][1].set_title('y-position')\n",
    "    axs[0][1].set_yticks(pos_range)\n",
    "    axs[0][1].set_yticklabels(pos_range)\n",
    "    # axs[0][1].set_xlabel('Time [s]')\n",
    "    # axs[0][1].set_ylabel('Position [mm]')\n",
    "\n",
    "    axs[1][0].plot(t,vx_ref,'--k', label = 'Reference')\n",
    "    axs[1][0].plot(t,vx_raw, color='orange', alpha=0.4, linewidth=4, label='Unfiltered')\n",
    "    axs[1][0].plot(t,vx,     color='orange', alpha=1, linewidth=2, label='Filtered')\n",
    "    axs[1][0].set_title('x-velocity')\n",
    "    axs[1][0].set_yticks(vel_range)\n",
    "    axs[1][0].set_yticklabels(vel_range)\n",
    "    axs[1][0].set_xlabel('Time [s]')\n",
    "    axs[1][0].set_ylabel('Velocity [mm/s]')\n",
    "\n",
    "    axs[1][1].plot(t,vy_ref,'--k', label = 'Reference')\n",
    "    axs[1][1].plot(t,vy_raw, color='orange', alpha=0.4, linewidth=4, label='Unfiltered')\n",
    "    axs[1][1].plot(t,vy,     color='orange', alpha=1, linewidth=2, label='Filtered')\n",
    "    axs[1][1].set_title('y-velocity')\n",
    "    axs[1][1].set_yticks(vel_range)\n",
    "    axs[1][1].set_yticklabels(vel_range)\n",
    "    axs[1][1].set_xlabel('Time [s]')\n",
    "    # axs[1][1].set_ylabel('Velocity [mm/s]')\n",
    "\n",
    "    fig.tight_layout()"
   ]
  },
  {
   "cell_type": "code",
   "execution_count": 34,
   "metadata": {},
   "outputs": [],
   "source": [
    "def ball_trajectory(file_path: str):\n",
    "    t, x_ref, y_ref, vx_ref, vy_ref, x_raw, y_raw, x, y, vx_raw, vy_raw, vx, vy, task, weights = load_data(file_path)\n",
    "\n",
    "    fig, ax = plt.subplots(1, 1, figsize=(10,10))\n",
    "    ax.set_title('Trajectory')\n",
    "\n",
    "    t = np.linspace(0, 2*np.pi)\n",
    "    ax.plot(80*np.sin(t), 80*np.cos(t),'--k')\n",
    "    ax.plot(60*np.sin(t), 60*np.cos(t),'--k')\n",
    "    ax.plot(100*np.sin(t), 100*np.cos(t),'--k')\n",
    "    ax.plot(20*np.sin(t), 20*np.cos(t),'--k')\n",
    "    ax.plot(20*np.sin(t) + 80, 20*np.cos(t),'--k')\n",
    "    ax.plot(20*np.sin(t) - 80, 20*np.cos(t),'--k')\n",
    "    ax.plot(20*np.sin(t), 20*np.cos(t) + 80,'--k')\n",
    "    ax.plot(20*np.sin(t), 20*np.cos(t) - 80,'--k')\n",
    "\n",
    "    ax.set_xlabel('x [mm]')\n",
    "    ax.set_ylabel('y [mm]')\n",
    "    ax.grid(color='k', linestyle=':', linewidth=1, alpha =0.8)\n",
    "\n",
    "    ax.plot(x_raw,y_raw,color='royalblue', linewidth=2, alpha=0.4)\n",
    "    ax.plot(x,y,color='royalblue', linewidth=2, alpha=1)\n",
    "    \n",
    "    fig.tight_layout()"
   ]
  },
  {
   "cell_type": "code",
   "execution_count": null,
   "metadata": {},
   "outputs": [],
   "source": [
    "file_path = widgets.Text(\n",
    "                value='',\n",
    "                placeholder='Write file path here',\n",
    "                description='File path:',\n",
    "                disabled=False\n",
    ")\n",
    "display(file_path)"
   ]
  },
  {
   "cell_type": "markdown",
   "metadata": {},
   "source": [
    "Enter the file path of the `.txt` file that must be accessed in the cell above, then run the code cell below to generate the necessary plots."
   ]
  }
 ],
 "metadata": {
  "kernelspec": {
   "display_name": "Python 3.9.9 64-bit",
   "language": "python",
   "name": "python3"
  },
  "language_info": {
   "codemirror_mode": {
    "name": "ipython",
    "version": 3
   },
   "file_extension": ".py",
   "mimetype": "text/x-python",
   "name": "python",
   "nbconvert_exporter": "python",
   "pygments_lexer": "ipython3",
   "version": "3.9.9"
  },
  "orig_nbformat": 4,
  "vscode": {
   "interpreter": {
    "hash": "949777d72b0d2535278d3dc13498b2535136f6dfe0678499012e853ee9abcab1"
   }
  }
 },
 "nbformat": 4,
 "nbformat_minor": 2
}
